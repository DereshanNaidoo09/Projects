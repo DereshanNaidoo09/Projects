{
  "nbformat": 4,
  "nbformat_minor": 0,
  "metadata": {
    "colab": {
      "provenance": []
    },
    "kernelspec": {
      "name": "python3",
      "display_name": "Python 3"
    },
    "language_info": {
      "name": "python"
    }
  },
  "cells": [
    {
      "cell_type": "code",
      "execution_count": null,
      "metadata": {
        "id": "m0cXFc30996v"
      },
      "outputs": [],
      "source": [
        "#install\n",
        "!pip install freecurrencyapi"
      ]
    },
    {
      "cell_type": "code",
      "source": [
        "#imports\n",
        "import freecurrencyapi\n",
        "import sys"
      ],
      "metadata": {
        "id": "pY9BHcNz-H6Q"
      },
      "execution_count": null,
      "outputs": []
    },
    {
      "cell_type": "code",
      "source": [
        "#set up the client\n",
        "client = freecurrencyapi.Client(#API_KEY)"
      ],
      "metadata": {
        "id": "fpfbPJSs-V0P"
      },
      "execution_count": null,
      "outputs": []
    },
    {
      "cell_type": "code",
      "source": [
        "#currency converter function\n",
        "def currency_converter(base_currency, target_currency):\n",
        "  result = client.latest(base_currency.upper())['data'][target_currency.upper()]\n",
        "  return result"
      ],
      "metadata": {
        "id": "BcmNFHaY-04i"
      },
      "execution_count": null,
      "outputs": []
    },
    {
      "cell_type": "code",
      "source": [
        "#list of currencies\n",
        "currency_dictionary = client.currencies()[\"data\"]\n",
        "currency_list = list(currency_dictionary.keys())\n",
        "print(currency_list)"
      ],
      "metadata": {
        "colab": {
          "base_uri": "https://localhost:8080/"
        },
        "id": "dMEBCWqYvZ-L",
        "outputId": "117d5fd1-3c9a-4ca3-ccc7-7883c83efd75"
      },
      "execution_count": null,
      "outputs": [
        {
          "output_type": "stream",
          "name": "stdout",
          "text": [
            "['EUR', 'USD', 'JPY', 'BGN', 'CZK', 'DKK', 'GBP', 'HUF', 'PLN', 'RON', 'SEK', 'CHF', 'ISK', 'NOK', 'HRK', 'RUB', 'TRY', 'AUD', 'BRL', 'CAD', 'CNY', 'HKD', 'IDR', 'ILS', 'INR', 'KRW', 'MXN', 'MYR', 'NZD', 'PHP', 'SGD', 'THB', 'ZAR']\n"
          ]
        }
      ]
    },
    {
      "cell_type": "code",
      "source": [
        "#shell arguments\n",
        "if __name__ == \"__main__\":\n",
        "  args = sys.argv\n",
        "  #converts two specified currencies\n",
        "  if len(args) == 3 and str(args[1]).upper() in currency_list and str(args[2]).upper() in currency_list:\n",
        "    base_currency = args[1]\n",
        "    target_currency = args[2]\n",
        "  #default: EUR -> USD conversion\n",
        "  elif len(args) == 1:\n",
        "    base_currency = \"EUR\"\n",
        "    target_currency = \"USD\"\n",
        "  else:\n",
        "    raise Exception(\"error\")\n",
        "  result = currency_converter(base_currency, target_currency)\n",
        "  print(f\"{base_currency} -> {target_currency} : {result}\")\n"
      ],
      "metadata": {
        "colab": {
          "base_uri": "https://localhost:8080/",
          "height": 211
        },
        "id": "Vj-AGHxutEPN",
        "outputId": "a1769afb-26bf-4dae-b23c-1c73c302ff6f"
      },
      "execution_count": null,
      "outputs": [
        {
          "output_type": "error",
          "ename": "Exception",
          "evalue": "try again",
          "traceback": [
            "\u001b[0;31m---------------------------------------------------------------------------\u001b[0m",
            "\u001b[0;31mException\u001b[0m                                 Traceback (most recent call last)",
            "\u001b[0;32m<ipython-input-14-9ca397bbc957>\u001b[0m in \u001b[0;36m<cell line: 1>\u001b[0;34m()\u001b[0m\n\u001b[1;32m      8\u001b[0m     \u001b[0mtarget_currency\u001b[0m \u001b[0;34m=\u001b[0m \u001b[0;34m\"USD\"\u001b[0m\u001b[0;34m\u001b[0m\u001b[0;34m\u001b[0m\u001b[0m\n\u001b[1;32m      9\u001b[0m   \u001b[0;32melse\u001b[0m\u001b[0;34m:\u001b[0m\u001b[0;34m\u001b[0m\u001b[0;34m\u001b[0m\u001b[0m\n\u001b[0;32m---> 10\u001b[0;31m     \u001b[0;32mraise\u001b[0m \u001b[0mException\u001b[0m\u001b[0;34m(\u001b[0m\u001b[0;34m\"try again\"\u001b[0m\u001b[0;34m)\u001b[0m\u001b[0;34m\u001b[0m\u001b[0;34m\u001b[0m\u001b[0m\n\u001b[0m\u001b[1;32m     11\u001b[0m   \u001b[0mresult\u001b[0m \u001b[0;34m=\u001b[0m \u001b[0mcurrency_converter\u001b[0m\u001b[0;34m(\u001b[0m\u001b[0mbase_currency\u001b[0m\u001b[0;34m,\u001b[0m \u001b[0mtarget_currency\u001b[0m\u001b[0;34m)\u001b[0m\u001b[0;34m\u001b[0m\u001b[0;34m\u001b[0m\u001b[0m\n\u001b[1;32m     12\u001b[0m   \u001b[0mprint\u001b[0m\u001b[0;34m(\u001b[0m\u001b[0;34mf\"{base_currency} -> {target_currency} : {result}\"\u001b[0m\u001b[0;34m)\u001b[0m\u001b[0;34m\u001b[0m\u001b[0;34m\u001b[0m\u001b[0m\n",
            "\u001b[0;31mException\u001b[0m: try again"
          ]
        }
      ]
    }
  ]
}